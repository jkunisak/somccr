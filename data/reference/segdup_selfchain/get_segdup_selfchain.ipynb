{
 "cells": [
  {
   "cell_type": "markdown",
   "metadata": {},
   "source": [
    "# How to get regions of segmental duplications and self-chains from UCSC (hg19)\n",
    "---\n",
    "## Change working directory"
   ]
  },
  {
   "cell_type": "code",
   "execution_count": 37,
   "metadata": {},
   "outputs": [],
   "source": [
    "%%bash\n",
    "cd ~/git/somccr/data/reference/segdup_selfchain/"
   ]
  },
  {
   "cell_type": "markdown",
   "metadata": {},
   "source": [
    "## Get [self chain](http://hgdownload.cse.ucsc.edu/goldenPath/hg19/database/chainSelf.txt.gz) intervals from UCSC"
   ]
  },
  {
   "cell_type": "code",
   "execution_count": 43,
   "metadata": {
    "scrolled": true
   },
   "outputs": [],
   "source": [
    "%%bash\n",
    "python get-chain.py | sort -k1,1 -k2,2n | bedtools merge > chainSelf_merged.hg19.txt"
   ]
  },
  {
   "cell_type": "markdown",
   "metadata": {},
   "source": [
    "## Get [segmental duplication](http://hgdownload.soe.ucsc.edu/goldenPath/hg19/database/genomicSuperDups.txt.gz) intervals from UCSC"
   ]
  },
  {
   "cell_type": "code",
   "execution_count": 40,
   "metadata": {},
   "outputs": [],
   "source": [
    "%%bash\n",
    "python get-segdup.py | sort -k1,1 -k2,2n | bedtools merge > genomicSuperDups.merged.hg19.txt"
   ]
  },
  {
   "cell_type": "markdown",
   "metadata": {},
   "source": [
    "## Run [bedtools merge](http://quinlanlab.org/tutorials/bedtools/bedtools.html#bedtools-merge) to combine intervals of segdups and self-chains"
   ]
  },
  {
   "cell_type": "code",
   "execution_count": 46,
   "metadata": {},
   "outputs": [],
   "source": [
    "%%bash\n",
    "touch unmerged_segdups_selfchain.hg19.txt\n",
    "cat genomicSuperDups.merged.hg19.txt >> unmerged_segdups_selfchain.hg19.txt\n",
    "cat chainSelf_merged.hg19.txt >> unmerged_segdups_selfchain.hg19.txt\n",
    "cat unmerged_segdups_selfchain.hg19.txt | sort -k1,1 -k2,2n | bedtools merge > merged_segdups_selfchain.hg19.txt"
   ]
  },
  {
   "cell_type": "markdown",
   "metadata": {},
   "source": [
    "## Remove unnecessary files"
   ]
  },
  {
   "cell_type": "code",
   "execution_count": 49,
   "metadata": {},
   "outputs": [
    {
     "name": "stderr",
     "output_type": "stream",
     "text": [
      "rm: cannot remove ‘genomicSuperDups.merged.hg19.txt’: No such file or directory\n",
      "rm: cannot remove ‘chainSelf_merged.hg19.txt’: No such file or directory\n"
     ]
    }
   ],
   "source": [
    "%%bash\n",
    "rm unmerged_segdups_selfchain.hg19.txt\n",
    "rm genomicSuperDups.merged.hg19.txt\n",
    "rm chainSelf_merged.hg19.txt"
   ]
  }
 ],
 "metadata": {
  "kernelspec": {
   "display_name": "Python 3",
   "language": "python",
   "name": "python3"
  },
  "language_info": {
   "codemirror_mode": {
    "name": "ipython",
    "version": 3
   },
   "file_extension": ".py",
   "mimetype": "text/x-python",
   "name": "python",
   "nbconvert_exporter": "python",
   "pygments_lexer": "ipython3",
   "version": "3.5.2"
  }
 },
 "nbformat": 4,
 "nbformat_minor": 2
}
