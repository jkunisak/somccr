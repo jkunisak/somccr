{
 "cells": [
  {
   "cell_type": "markdown",
   "metadata": {},
   "source": [
    "# **Description**\n",
    "This file describes the workflow to identify regions of constraint in tumor genomes. Specifically, I seek to identify intervals of coding sequences in tumor genomes signficantly devoid of protein-altering mutations. This analysis will be done at a pan-cancer and individual cancer type analysis. \n",
    "\n",
    "We will use consensus variant files from **TCGA (whole exome sequencing)** and **ICGC (whole genome sequencing)** working groups. See below for more information on the working groups and their manuscripts: \n",
    "\n",
    "\n",
    "1.   [Scalable Open Science Approach for Mutation Calling \n",
    "of Tumor Exomes Using Multiple Genomic Pipelines](https://pubmed.ncbi.nlm.nih.gov/29596782/)\n",
    "\n",
    "    * Use publically available MAF file: [mc3.v0.2.8.PUBLIC.maf.gz](https://api.gdc.cancer.gov/data/1c8cfe5f-e52d-41ba-94da-f15ea1337efc)\n",
    "    * Coverage information:  \n",
    "    * Clinical information: Download a tsv file containing TCGA clinical data from the [NCI GDC Data Portal](https://portal.gdc.cancer.gov/repository?searchTableTab=cases) by clicking on the **\"Clinical\"** button. \n",
    "    ```bash\n",
    "    ## Decompress TCGA clinical information file:\n",
    "    cd ~/Google Drive/Quinlan Lab - PhD/Projects/somatic_ccr/data/clinical\n",
    "    tar -zxvf ~/path/to/downloaded/file > mc3_mapping.tsv\n",
    "    ```\n",
    "2.   [Pan-cancer analysis of whole genomes](https://www.nature.com/articles/s41586-020-1969-6) \n",
    "    * Use publically available MAF file: [final_consensus_passonly.snv_mnv_indel.icgc.public.maf.gz](https://dcc.icgc.org/api/v1/download?fn=/PCAWG/consensus_snv_indel/final_consensus_passonly.snv_mnv_indel.icgc.public.maf.gz)\n",
    "    * Use publically available wig files for coverage information: [coverage_wig_files.tar](https://dcc.icgc.org/api/v1/download?fn=/PCAWG/consensus_snv_indel/wig_files/coverage_wig_files.tar)\n",
    "    * Clinical information: Click the **\"Download Donor Data\"** button at [ICGC data portal](https://dcc.icgc.org/search?filters=%7B%22donor%22:%7B%22id%22:%7B%22is%22:%5B%22ES:12b6fcab-467d-4649-8177-0aa41f44d77c%22%5D%7D%7D%7D). Use the **submitted_donor_id** and **project_code** columns.  \n",
    "    ```bash\n",
    "    ## Decompress ICGC clinical information file:\n",
    "    cd ~/Google Drive/Quinlan Lab - PhD/Projects/somatic_ccr/data/clinical\n",
    "    gunzip ~/Path/to/sample.tsv.gz > pcawg_mapping.tsv\n",
    "```"
   ]
  },
  {
   "cell_type": "markdown",
   "metadata": {},
   "source": [
    "# **Basic Outline of Step #1**\n",
    "\n",
    "## **Step 1: Format, Filter, and Combine TCGA and ICGC Variants**\n",
    "### ***Step 1a: Obtain variant and coverage files from working groups***\n",
    "#### Step 1a.1: Get variant information from TCGA and ICGC \n",
    "#### Step 1a.2: Map clinical information (i.e. cancer type) to sample ids from both working group datasets\n",
    "\n",
    "#### **Generate consensus cancer type mapping file** \n",
    "* **GOAL:** Generate a consensus file to map ICGC's 'project_code' to MC3's 'project_id' to the same disease \n",
    "* Use [TCGA study abbreviations](https://gdc.cancer.gov/resources-tcga-users/tcga-code-tables/tcga-study-abbreviations) and [ICGC study abbreviations](https://docs.icgc.org/submission/projects/) to obtain consensus TCGA and ICGC cancer type name. \n",
    "* The consensus cancer type name will be indicated in the **'Simplified Name'** column...\n",
    "\n",
    "| TCGA Study Code | ICGC Project Code | ICGC Cancer Type | TCGA Cancer Type |Simplified Name | TCGA? | ICGC? |\n",
    "| --------------- | ----------------- | ---------------- | ---------------- | -------------- | ----- | ----- |\n",
    "| TCGA-BRCA | BRCA-CN | Breast Triple Negative Cancer |  Breast invasive carcinoma |Breast invasive carcinoma | 1 | 1 |\n",
    "| TCGA-BRCA | BRCA-EU | Breast ER+ and HER2 | Breast invasive carcinoma | Breast invasive carcinoma | 1 | 1 |\n",
    "| TCGA-BRCA | BRCA-FR | Breast Cancer | Breast invasive carcinoma | Breast invasive carcinoma | 1 | 1 |\n",
    "| TCGA-BRCA | BRCA-KR | Breast Cancer | Breast invasive carcinoma | Breast invasive carcinoma | 1 | 1 |\n",
    "| TCGA-BRCA | BRCA-UK | Breast Triple Negative/Lobular Cancer | Breast invasive carcinoma | Breast invasive carcinoma | 1 | 1 |\n",
    "\n",
    "* **Some cancer type names are only found in ICGC --> see below for a few examples:**\n",
    "\n",
    "| TCGA Study Code | ICGC Project Code | ICGC Cancer Type | TCGA Cancer Type |Simplified Name | TCGA? | ICGC? |\n",
    "| --------------- | ----------------- | ---------------- | ---------------- | -------------- | ----- | ----- |\n",
    "| NA | ALL-US | Acute Lymphoblastic Lymphoma | NA | Acute Lymphoblastic Lymphoma | 0 | 1 |\n",
    "| NA | LIAD-US | Benign Liver Tumor | NA | Benign Liver Tumor | 0 | 1 |\n",
    "| NA | CCSK-US | Clear Cell Sarcomas of the Kidney | NA | Clear Cell Sarcomas of the Kidney | 0 | 1 |\n",
    "| NA | PEME-CA | Pediatric Medulloblastoma | NA | Pediatric Medulloblastoma | 0 | 1 |\n",
    "| NA | RT-US | Rhabdoid Tumor | NA | Rhabdoid Tumor | 0 | 1 |\n",
    "| NA | SKCA-BR | Skin Adenocarcinoma | NA | Skin Adenocarcinoma | 0 | 1 |\n",
    "| NA | LMS-FR | Soft tissue cancer | NA | Soft tissue cancer | 0 | 1 |\n",
    "| NA | WT-US | Wilms Tumor | NA | Wilms Tumor | 0 | 1 |\n",
    "\n",
    "* **Some cancer type names are only found in TCGA --> see below for a few examples:**\n",
    "\n",
    "| TCGA Study Code | ICGC Project Code | ICGC Cancer Type | TCGA Cancer Type |Simplified Name | TCGA? | ICGC? |\n",
    "| --------------- | ----------------- | ---------------- | ---------------- | -------------- | ----- | ----- |\n",
    "| TCGA-UVM | NA | NA | Uveal Melanoma | Uveal Melanoma | 1 | 0 |\n",
    "| TCGA-MESO | NA | NA | Mesothelioma | Mesothelioma | 1 | 0 |\n",
    "| TCGA-THYM | NA | NA | Thymoma | Thymoma | 1 | 0 |\n",
    "\n",
    "#### Step 1a.3 Filter variants based on coverage parameters\n",
    "\n",
    "### ***Step 1b: Remove variants that overlap with regions of segmental duplications and/or self-chains***\n",
    "\n",
    "*   **NOTE:** This step removes the entire variant, even if part of the variant (in the case of non-MNVs) does not overlap with segmental duplications and/or self-chains\n",
    "*   **Note:** This is using the UCSC annotation files for genome build hg19 (NOT hg38)\n",
    "\n",
    "#### Step 1b.1: Concatenate variants from MC3 and PCAWG MAF files\n",
    "\n",
    "#### Step 1b.2: Select for specific variant classes (exonic and/or non-intronic)\n",
    "\n",
    "#### Step 1b.3: Use bedtools to remove variants that overlap with regions of segdups and self-chains (SEE BELOW)\n",
    "\n",
    "#### Step 1b.4 Use bedtools to select for variants with CDS regions of genes\n",
    "\n",
    "#### Step 1b.5: Use biomaRt to filter for genes with known CDS lengths (using hg19) \n",
    "\n",
    "### ***Step 1c: Visualize variant data post-filtering*** \n",
    "#### Step 1c.1: Total number of mutations across each variant class\n",
    "#### Step 1c.2: Total number of samples per cancer type\n",
    "#### Step 1c.3: Number of mutations per cancer type given a variant_class\n",
    "#### Step 1c.4: Number of mutations per gene per cancer type"
   ]
  },
  {
   "cell_type": "markdown",
   "metadata": {},
   "source": [
    "## ***Step 1a.1 Read in TCGA MAF File***\n",
    "---"
   ]
  },
  {
   "cell_type": "code",
   "execution_count": 1,
   "metadata": {},
   "outputs": [
    {
     "name": "stderr",
     "output_type": "stream",
     "text": [
      "/uufs/chpc.utah.edu/sys/installdir/python/3.5.2-c7/lib/python3.5/site-packages/IPython/core/interactiveshell.py:2717: DtypeWarning: Columns (4) have mixed types. Specify dtype option on import or set low_memory=False.\n",
      "  interactivity=interactivity, compiler=compiler, result=result)\n"
     ]
    }
   ],
   "source": [
    "import pandas as pd\n",
    "\n",
    "## Define columns to include\n",
    "fields = ['Hugo_Symbol', 'Chromosome', 'Start_Position', 'End_Position', 'Strand', \n",
    "            'Variant_Classification', 'Variant_Type', 'Tumor_Sample_Barcode',\n",
    "            'cDNA_position', 'CDS_position', 'HGVSc', 'HGVSp_Short', 'Transcript_ID', \n",
    "            'Exon_Number', 't_depth', 't_ref_count', 't_alt_count', 'n_depth', 'n_ref_count', 'n_alt_count', \n",
    "            'all_effects', 'DOMAINS', 'IMPACT']\n",
    "\n",
    "mc3_df = pd.read_csv(\"https://api.gdc.cancer.gov/data/1c8cfe5f-e52d-41ba-94da-f15ea1337efc\", \n",
    "                     sep=\"\\t\", compression=\"gzip\", header=0)"
   ]
  },
  {
   "cell_type": "markdown",
   "metadata": {},
   "source": [
    "## ***Step 1a.2 Map Clinical Information to TCGA variants***\n",
    "---"
   ]
  },
  {
   "cell_type": "code",
   "execution_count": 3,
   "metadata": {},
   "outputs": [
    {
     "data": {
      "text/html": [
       "<div>\n",
       "<style scoped>\n",
       "    .dataframe tbody tr th:only-of-type {\n",
       "        vertical-align: middle;\n",
       "    }\n",
       "\n",
       "    .dataframe tbody tr th {\n",
       "        vertical-align: top;\n",
       "    }\n",
       "\n",
       "    .dataframe thead th {\n",
       "        text-align: right;\n",
       "    }\n",
       "</style>\n",
       "<table border=\"1\" class=\"dataframe\">\n",
       "  <thead>\n",
       "    <tr style=\"text-align: right;\">\n",
       "      <th></th>\n",
       "      <th>Hugo_Symbol</th>\n",
       "      <th>Entrez_Gene_Id</th>\n",
       "      <th>Center</th>\n",
       "      <th>NCBI_Build</th>\n",
       "      <th>Chromosome</th>\n",
       "      <th>Start_Position</th>\n",
       "      <th>End_Position</th>\n",
       "      <th>Strand</th>\n",
       "      <th>Variant_Classification</th>\n",
       "      <th>Variant_Type</th>\n",
       "      <th>...</th>\n",
       "      <th>ExAC_AF_SAS</th>\n",
       "      <th>GENE_PHENO</th>\n",
       "      <th>FILTER</th>\n",
       "      <th>COSMIC</th>\n",
       "      <th>CENTERS</th>\n",
       "      <th>CONTEXT</th>\n",
       "      <th>DBVS</th>\n",
       "      <th>NCALLERS</th>\n",
       "      <th>Tumor_Sample_Barcode_split</th>\n",
       "      <th>TCGA_Project_Code</th>\n",
       "    </tr>\n",
       "  </thead>\n",
       "  <tbody>\n",
       "    <tr>\n",
       "      <th>0</th>\n",
       "      <td>TACC2</td>\n",
       "      <td>0</td>\n",
       "      <td>.</td>\n",
       "      <td>GRCh37</td>\n",
       "      <td>10</td>\n",
       "      <td>123810032</td>\n",
       "      <td>123810032</td>\n",
       "      <td>+</td>\n",
       "      <td>Missense_Mutation</td>\n",
       "      <td>SNP</td>\n",
       "      <td>...</td>\n",
       "      <td>.</td>\n",
       "      <td>.</td>\n",
       "      <td>PASS</td>\n",
       "      <td>SITE|p.T38M|c.113C&gt;T|3</td>\n",
       "      <td>MUTECT|RADIA|SOMATICSNIPER|MUSE|VARSCANS</td>\n",
       "      <td>GGACACGCCCG</td>\n",
       "      <td>by1000G</td>\n",
       "      <td>5</td>\n",
       "      <td>TCGA-02-0003</td>\n",
       "      <td>TCGA-GBM</td>\n",
       "    </tr>\n",
       "    <tr>\n",
       "      <th>1</th>\n",
       "      <td>JAKMIP3</td>\n",
       "      <td>0</td>\n",
       "      <td>.</td>\n",
       "      <td>GRCh37</td>\n",
       "      <td>10</td>\n",
       "      <td>133967449</td>\n",
       "      <td>133967449</td>\n",
       "      <td>+</td>\n",
       "      <td>Silent</td>\n",
       "      <td>SNP</td>\n",
       "      <td>...</td>\n",
       "      <td>.</td>\n",
       "      <td>.</td>\n",
       "      <td>PASS</td>\n",
       "      <td>NONE</td>\n",
       "      <td>MUTECT|RADIA|SOMATICSNIPER|MUSE|VARSCANS</td>\n",
       "      <td>CTGGACGAGGA</td>\n",
       "      <td>byFrequency</td>\n",
       "      <td>5</td>\n",
       "      <td>TCGA-02-0003</td>\n",
       "      <td>TCGA-GBM</td>\n",
       "    </tr>\n",
       "    <tr>\n",
       "      <th>2</th>\n",
       "      <td>PANX3</td>\n",
       "      <td>0</td>\n",
       "      <td>.</td>\n",
       "      <td>GRCh37</td>\n",
       "      <td>11</td>\n",
       "      <td>124489539</td>\n",
       "      <td>124489539</td>\n",
       "      <td>+</td>\n",
       "      <td>Missense_Mutation</td>\n",
       "      <td>SNP</td>\n",
       "      <td>...</td>\n",
       "      <td>.</td>\n",
       "      <td>.</td>\n",
       "      <td>PASS</td>\n",
       "      <td>SITE|p.R296Q|c.887G&gt;A|3</td>\n",
       "      <td>MUTECT|RADIA|SOMATICSNIPER|MUSE|VARSCANS</td>\n",
       "      <td>ATGTCGGTGGG</td>\n",
       "      <td>.</td>\n",
       "      <td>5</td>\n",
       "      <td>TCGA-02-0003</td>\n",
       "      <td>TCGA-GBM</td>\n",
       "    </tr>\n",
       "    <tr>\n",
       "      <th>3</th>\n",
       "      <td>SPI1</td>\n",
       "      <td>0</td>\n",
       "      <td>.</td>\n",
       "      <td>GRCh37</td>\n",
       "      <td>11</td>\n",
       "      <td>47380512</td>\n",
       "      <td>47380512</td>\n",
       "      <td>+</td>\n",
       "      <td>Missense_Mutation</td>\n",
       "      <td>SNP</td>\n",
       "      <td>...</td>\n",
       "      <td>.</td>\n",
       "      <td>.</td>\n",
       "      <td>PASS</td>\n",
       "      <td>NONE</td>\n",
       "      <td>RADIA|MUSE</td>\n",
       "      <td>GGCTGGGGACA</td>\n",
       "      <td>.</td>\n",
       "      <td>2</td>\n",
       "      <td>TCGA-02-0003</td>\n",
       "      <td>TCGA-GBM</td>\n",
       "    </tr>\n",
       "    <tr>\n",
       "      <th>4</th>\n",
       "      <td>NAALAD2</td>\n",
       "      <td>0</td>\n",
       "      <td>.</td>\n",
       "      <td>GRCh37</td>\n",
       "      <td>11</td>\n",
       "      <td>89868837</td>\n",
       "      <td>89868837</td>\n",
       "      <td>+</td>\n",
       "      <td>Missense_Mutation</td>\n",
       "      <td>SNP</td>\n",
       "      <td>...</td>\n",
       "      <td>.</td>\n",
       "      <td>.</td>\n",
       "      <td>PASS</td>\n",
       "      <td>SITE|p.R65C|c.193C&gt;T|4</td>\n",
       "      <td>MUTECT|RADIA|SOMATICSNIPER|MUSE|VARSCANS</td>\n",
       "      <td>TTCTTCGGTAA</td>\n",
       "      <td>.</td>\n",
       "      <td>5</td>\n",
       "      <td>TCGA-02-0003</td>\n",
       "      <td>TCGA-GBM</td>\n",
       "    </tr>\n",
       "  </tbody>\n",
       "</table>\n",
       "<p>5 rows × 116 columns</p>\n",
       "</div>"
      ],
      "text/plain": [
       "  Hugo_Symbol  Entrez_Gene_Id Center NCBI_Build Chromosome  Start_Position  \\\n",
       "0       TACC2               0      .     GRCh37         10       123810032   \n",
       "1     JAKMIP3               0      .     GRCh37         10       133967449   \n",
       "2       PANX3               0      .     GRCh37         11       124489539   \n",
       "3        SPI1               0      .     GRCh37         11        47380512   \n",
       "4     NAALAD2               0      .     GRCh37         11        89868837   \n",
       "\n",
       "   End_Position Strand Variant_Classification Variant_Type        ...         \\\n",
       "0     123810032      +      Missense_Mutation          SNP        ...          \n",
       "1     133967449      +                 Silent          SNP        ...          \n",
       "2     124489539      +      Missense_Mutation          SNP        ...          \n",
       "3      47380512      +      Missense_Mutation          SNP        ...          \n",
       "4      89868837      +      Missense_Mutation          SNP        ...          \n",
       "\n",
       "  ExAC_AF_SAS GENE_PHENO FILTER                   COSMIC  \\\n",
       "0           .          .   PASS   SITE|p.T38M|c.113C>T|3   \n",
       "1           .          .   PASS                     NONE   \n",
       "2           .          .   PASS  SITE|p.R296Q|c.887G>A|3   \n",
       "3           .          .   PASS                     NONE   \n",
       "4           .          .   PASS   SITE|p.R65C|c.193C>T|4   \n",
       "\n",
       "                                    CENTERS      CONTEXT         DBVS  \\\n",
       "0  MUTECT|RADIA|SOMATICSNIPER|MUSE|VARSCANS  GGACACGCCCG      by1000G   \n",
       "1  MUTECT|RADIA|SOMATICSNIPER|MUSE|VARSCANS  CTGGACGAGGA  byFrequency   \n",
       "2  MUTECT|RADIA|SOMATICSNIPER|MUSE|VARSCANS  ATGTCGGTGGG            .   \n",
       "3                                RADIA|MUSE  GGCTGGGGACA            .   \n",
       "4  MUTECT|RADIA|SOMATICSNIPER|MUSE|VARSCANS  TTCTTCGGTAA            .   \n",
       "\n",
       "  NCALLERS Tumor_Sample_Barcode_split TCGA_Project_Code  \n",
       "0        5               TCGA-02-0003          TCGA-GBM  \n",
       "1        5               TCGA-02-0003          TCGA-GBM  \n",
       "2        5               TCGA-02-0003          TCGA-GBM  \n",
       "3        2               TCGA-02-0003          TCGA-GBM  \n",
       "4        5               TCGA-02-0003          TCGA-GBM  \n",
       "\n",
       "[5 rows x 116 columns]"
      ]
     },
     "execution_count": 3,
     "metadata": {},
     "output_type": "execute_result"
    }
   ],
   "source": [
    "## Define columns to read in\n",
    "fields = ['case_submitter_id', 'project_id']\n",
    "\n",
    "## Read in the MC3 clinical data\n",
    "clinical_mc3 = pd.read_csv(\"~/git/somccr/data/clinical/mc3_mapping.tsv\", sep=\"\\t\", usecols=fields)\n",
    "\n",
    "## Obtain dataset with the TCGA barcode and cancer type\n",
    "clinical_mc3 = clinical_mc3.drop_duplicates()\n",
    "clinical_mc3.columns = ['Tumor_Sample_Barcode_split', 'TCGA_Project_Code']\n",
    "\n",
    "## Split the Tumor_Sample_Barcode column so that they match the barcodes in the 'clinical' dataset\n",
    "barcodes = mc3_df['Tumor_Sample_Barcode']\n",
    "barcodes_split = barcodes.str.rsplit(pat=\"-\", n=4, expand=True)[0]\n",
    "\n",
    "## Add the split TCGA barcodes to the mc3 variant dataset\n",
    "mc3_df['Tumor_Sample_Barcode_split'] = barcodes_split\n",
    "\n",
    "## Map the barcodes to the cancer type \n",
    "mc3_df = pd.merge(mc3_df, clinical_mc3, on = \"Tumor_Sample_Barcode_split\")\n",
    "mc3_df.head()"
   ]
  },
  {
   "cell_type": "markdown",
   "metadata": {},
   "source": [
    "## ***Step 1a.1 Read in ICGC MAF File***\n",
    "---"
   ]
  },
  {
   "cell_type": "code",
   "execution_count": null,
   "metadata": {},
   "outputs": [],
   "source": [
    "import pandas as pd\n",
    "\n",
    "## Define columns to include\n",
    "fields = ['Hugo_Symbol', 'Chromosome', 'Start_position', 'End_position', 'Strand', \n",
    "          'Variant_Classification', 'Variant_Type', 'Tumor_Sample_Barcode', 'Donor_ID']\n",
    "\n",
    "## Read in the ICGC MAF file\n",
    "pcawg_df = pd.read_csv(\"https://dcc.icgc.org/api/v1/download?fn=/PCAWG/consensus_snv_indel/final_consensus_passonly.snv_mnv_indel.icgc.public.maf.gz\",\n",
    "                      compression='gzip', sep=\"\\t\")\n",
    "\n",
    "## Rename columns Start/End_position to Start/End_Position\n",
    "pcawg_df.rename(columns={'Start_position':'Start_Position', 'End_position':'End_Position'}, inplace=True)"
   ]
  },
  {
   "cell_type": "markdown",
   "metadata": {},
   "source": [
    "## ***Step 1a.2 Map Clinical Information to ICGC Variants***\n",
    "---"
   ]
  },
  {
   "cell_type": "code",
   "execution_count": null,
   "metadata": {},
   "outputs": [],
   "source": [
    "## Define columns to read in\n",
    "fields = ['project_code', 'icgc_donor_id']\n",
    "\n",
    "## Read in the MC3 clinical data\n",
    "clinical_pcawg = pd.read_csv(\"~/git/somccr/data/clinical/pcawg_mapping.tsv\", \n",
    "                             sep=\"\\t\", usecols=fields)\n",
    "\n",
    "## Obtain dataset with the TCGA barcode and cancer type\n",
    "clinical_pcawg = clinical_pcawg.drop_duplicates()\n",
    "clinical_pcawg.columns = ['ICGC_Project_Code', 'Donor_ID']\n",
    "\n",
    "# ## Remove the country designation in the cancer type code\n",
    "# cancer_type = clinical_pcawg['cancer_type_pcawg']\n",
    "# cancer_type_split = cancer_type.str.rsplit(pat=\"-\", n=2, expand=True)[0]\n",
    "\n",
    "# ## Add the split ICGC barcodes to the pcawg clinical dataset\n",
    "# clinical_pcawg['cancer_type_pcawg'] = cancer_type_split\n",
    "\n",
    "## Map the barcodes to the cancer type \n",
    "pcawg_df = pd.merge(pcawg_df, clinical_pcawg, on = \"Donor_ID\")\n",
    "pcawg_df.head()"
   ]
  },
  {
   "cell_type": "markdown",
   "metadata": {},
   "source": [
    "## ***Step 1a.2 Map TCGA and ICGC cancer codes to a consensus disease name***\n",
    "---"
   ]
  },
  {
   "cell_type": "code",
   "execution_count": null,
   "metadata": {},
   "outputs": [],
   "source": [
    "## Read in the clinical information mapping file for icgc and tcga\n",
    "file = \"~/git/somccr/data/clinical/map_icgc_tcga_cancer_codes.xlsx\"\n",
    "\n",
    "## Only select for columns of interest\n",
    "tcga = ['TCGA_Project_Code', 'Cancer_Type_Simplified']\n",
    "icgc = ['ICGC_Project_Code', 'Cancer_Type_Simplified']\n",
    "map_disease_tcga = pd.read_excel(file, 'master', usecols=tcga)\n",
    "map_disease_icgc = pd.read_excel(file, 'master', usecols=icgc)\n",
    "\n",
    "## Map the project code to the cancer type name\n",
    "mc3_df = pd.merge(mc3_df, map_disease_tcga, on=\"TCGA_Project_Code\")\n",
    "pcawg_df = pd.merge(pcawg_df, map_disease_icgc, on=\"ICGC_Project_Code\")\n",
    "\n",
    "## Change the column name of the column used to map project codes to TCGA and ICGC samples --> used to plot # of samples for each cancer type\n",
    "mc3_df.rename(columns={'Tumor_Sample_Barcode':'Sample_ID'}, inplace=True)\n",
    "pcawg_df.rename(columns={'Donor_ID':'Sample_ID'}, inplace=True)"
   ]
  },
  {
   "cell_type": "markdown",
   "metadata": {},
   "source": [
    "## ***Step 1b.1 Concatenate TCGA and ICGC variants***\n",
    "---"
   ]
  },
  {
   "cell_type": "code",
   "execution_count": null,
   "metadata": {},
   "outputs": [],
   "source": [
    "pd.options.mode.chained_assignment = None  # default='warn'\n",
    "\n",
    "## Get bare minimum columns for mc3 and pcawg variant files \n",
    "fields = ['Chromosome', 'Start_Position', 'End_Position', 'Hugo_Symbol', \n",
    "          'Variant_Classification', 'Cancer_Type_Simplified', 'Sample_ID', \n",
    "          'Reference_Allele', 'Tumor_Seq_Allele2']\n",
    "mc3 = mc3_df[fields]\n",
    "pcawg = pcawg_df[fields]\n",
    "\n",
    "## Specify which study the variants came from \n",
    "mc3['study'] = \"mc3_wes\"\n",
    "pcawg['study'] = \"pcawg_wgs\"\n",
    "\n",
    "## Concatenate mc3 and pcawg variants \n",
    "maf = pd.concat([mc3, pcawg])\n",
    "\n",
    "## Convert start_position to 0-based positions\n",
    "maf.loc[:, 'Start_Position'] = maf['Start_Position'].apply(lambda x: x - 1)"
   ]
  },
  {
   "cell_type": "markdown",
   "metadata": {},
   "source": [
    "## ***Step 1b.2 Select for specific variant classes***\n",
    "---"
   ]
  },
  {
   "cell_type": "code",
   "execution_count": null,
   "metadata": {},
   "outputs": [],
   "source": [
    "## Remove non-cds/exonic variants \n",
    "variants_to_keep = ['Frame_Shift_Del', 'Frame_Shift_Ins', 'In_Frame_Del', 'In_Frame_Ins', 'Missense_Mutation',\n",
    "                   'Nonsense_Mutation', 'Nonstop_Mutation', 'RNA', 'Silent', 'Splice_Site', 'Translation_Start_Site',\n",
    "                   'Targeted_Region', 'Start_Codon_Del', 'Start_Codon_Ins', 'Start_Codon_SNP', 'Stop_Codon_Del', \n",
    "                   'Stop_Codon_Ins', 'De_novo_Start_InFrame', 'De_novo_Start_OutOfFrame']\n",
    "keep_variants = maf.loc[maf[\"Variant_Classification\"].isin(variants_to_keep)]\n",
    "\n",
    "## Add \"chr\" to the chromosome name \n",
    "keep_variants['Chromosome'] = \"chr\" + keep_variants['Chromosome'].astype(str)\n",
    "\n",
    "## Write out the concatenated, filtered MAF file\n",
    "keep_variants.to_csv(\"~/git/somccr/data/output/somccr_v3/mc3_pcawg.bed\", \n",
    "                     sep=\"\\t\", header=False, index=False)\n",
    "\n",
    "## Show dataset\n",
    "keep_variants.head()"
   ]
  },
  {
   "cell_type": "markdown",
   "metadata": {},
   "source": [
    "## ***Step 1b.3 Use bedtools to remove variants that overlap with regions of segdups and self-chains***\n",
    "---\n",
    "**NOTE:** See [bedtools intersect function with the -v option](http://quinlanlab.org/tutorials/bedtools/bedtools.html) for more information on how this step is performed. Briefly, this function will identify variants from MC3 and PCAWG that DO NOT fall within intervals in the provided segmental-duplication/self-chain file. As a reminder, this latter file is sorted and overlapping intervals are merged. "
   ]
  },
  {
   "cell_type": "code",
   "execution_count": null,
   "metadata": {},
   "outputs": [],
   "source": [
    "%%bash\n",
    "## cd into working directory \n",
    "cd ~/git/somccr/data/output/somccr_v3/\n",
    "\n",
    "## Pre-sort the variant file \n",
    "cat mc3_pcawg.bed | sort -k1,1 -k2,2n > mc3_pcawg.sorted.bed\n",
    "\n",
    "## Use bedtools intersect with -v option to get variants that DO NOT overlap with the regions of interest\n",
    "bedtools intersect -a mc3_pcawg.sorted.bed \\\n",
    "-b ~/Google\\ Drive/Quinlan\\ Lab\\ -\\ PhD/Projects/somatic_ccr/data/reference/segdup_selfchain/merged_segdups_selfchain.hg19.txt -v \\\n",
    "> mc3_pcawg.sorted.filtered.bed"
   ]
  },
  {
   "cell_type": "markdown",
   "metadata": {},
   "source": [
    "## ***Step 1b.4 Use bedtools to keep variants within CDS regions of genes***\n",
    "---\n",
    "**NOTE:** See [bedtools intersect](http://quinlanlab.org/tutorials/bedtools/bedtools.html) for more information on how the intersect step is performed. This step will select for variants from TCGA and ICGA that fall within CDS coordinates. \n",
    "\n",
    "**NOTE:** Download coordiantes of CDS regions of known genes from UCSC Genome Table Browser \n",
    "* Sort\n",
    "* Merge\n",
    "\n",
    "***NOTE:*** Only focusing on single nucleotide variants for now --> will simply k-mer calculation"
   ]
  },
  {
   "cell_type": "code",
   "execution_count": null,
   "metadata": {},
   "outputs": [],
   "source": [
    "from IPython.display import Image\n",
    "from IPython.core.display import HTML \n",
    "file1 = '/Users/jasonkunisaki/git/somccr/img/table_browser_query.png'\n",
    "file2 = '/Users/jasonkunisaki/git/somccr/img/get_output_query.png'\n",
    "#display(Image(filename=file1), Image(filename=file2))"
   ]
  },
  {
   "cell_type": "code",
   "execution_count": null,
   "metadata": {},
   "outputs": [],
   "source": [
    "%%bash\n",
    "## set working directory\n",
    "cd ~/Google\\ Drive/Quinlan\\ Lab\\ -\\ PhD/Projects/somatic_ccr/data/output/mc3_pcawg_v3\n",
    "\n",
    "cat mc3_pcawg.sorted.filtered.bed | \\\n",
    "awk '{if ($3-$2==1) print $0}' > mc3_pcawg.sorted.filtered.snv.bed\n",
    "\n",
    "bedtools intersect -a mc3_pcawg.sorted.filtered.snv.bed \\\n",
    "-b ~/Google\\ Drive/Quinlan\\ Lab\\ -\\ PhD/Projects/somatic_ccr/data/reference/cds/cds_ucsc_gene_coord_sorted_merged.bed \\\n",
    "> mc3_pcawg.sorted.filtered.snv.CDS.bed"
   ]
  },
  {
   "cell_type": "markdown",
   "metadata": {},
   "source": [
    "## ***Step 1b.4 Use biomaRt to get genes with known CDS lengths***\n",
    "---"
   ]
  },
  {
   "cell_type": "code",
   "execution_count": null,
   "metadata": {},
   "outputs": [],
   "source": [
    "## Allow for R programming; must use %%R with the `-i [df to import from global environment]` option to use in an R cell\n",
    "%load_ext rpy2.ipython"
   ]
  },
  {
   "cell_type": "code",
   "execution_count": null,
   "metadata": {},
   "outputs": [],
   "source": [
    "%%R\n",
    "## Define input and output filenames\n",
    "file <- \"~/Google Drive/Quinlan Lab - PhD/Projects/somatic_ccr/data/output/mc3_pcawg_v3/mc3_pcawg.sorted.filtered.snv.CDS.bed\"\n",
    "output_file_name <- \"~/Google Drive/Quinlan Lab - PhD/Projects/somatic_ccr/data/output/mc3_pcawg_v3/gene_cds_length.txt\"\n",
    "\n",
    "## Source in the code\n",
    "source(\"~/Google Drive/Quinlan Lab - PhD/Projects/somatic_ccr/script/get-length.R\")\n",
    "get_length(file=file, output_file_name=output_file_name)"
   ]
  },
  {
   "cell_type": "code",
   "execution_count": null,
   "metadata": {},
   "outputs": [],
   "source": [
    "## Read in the sorted and filtered variant file\n",
    "temp = pd.read_csv(\"~/Google Drive/Quinlan Lab - PhD/Projects/somatic_ccr/data/output/mc3_pcawg_v3/mc3_pcawg.sorted.filtered.snv.CDS.bed\", \n",
    "                   sep=\"\\t\", header=None)\n",
    "temp.columns = ['chromosome', 'start', 'stop', 'gene', 'variant_class', 'cancer_type', 'sample_id', 'ref', 'alt', 'working_group']\n",
    "\n",
    "## Get the genes with known CDS lengths from the R script above --> read in as pandas dataframe\n",
    "cds_gene_df = pd.read_csv(\"~/Google Drive/Quinlan Lab - PhD/Projects/somatic_ccr/data/output/mc3_pcawg_v3/gene_cds_length.txt\", sep=\"\\t\")\n",
    "\n",
    "## Get unique list of cds genes\n",
    "cds_genes = cds_gene_df['gene'].tolist()\n",
    "cds_genes = list(set(cds_genes))\n",
    "\n",
    "## Get rows from the combined MAF dataset with cds genes\n",
    "cds_maf = temp[temp[\"gene\"].isin(cds_genes)]\n",
    "\n",
    "## Write the cds MAF dataset\n",
    "cds_maf.to_csv(\"~/Google Drive/Quinlan Lab - PhD/Projects/somatic_ccr/data/output/mc3_pcawg_v3/mc3_pcawg.sorted.filtered.snv.CDS.knownCDSlength.bed\", sep=\"\\t\", index=False)\n",
    "\n",
    "## Show dataset\n",
    "cds_maf.head()"
   ]
  },
  {
   "cell_type": "markdown",
   "metadata": {},
   "source": [
    "## ***Step 1c.1 Plot total number of mutations across each variant class***\n",
    "---"
   ]
  },
  {
   "cell_type": "code",
   "execution_count": 2,
   "metadata": {},
   "outputs": [],
   "source": [
    "## Allow for R programming; must use %%R with the `-i [df to import from global environment]` option to use in an R cell\n",
    "%load_ext rpy2.ipython"
   ]
  },
  {
   "cell_type": "code",
   "execution_count": null,
   "metadata": {},
   "outputs": [],
   "source": [
    "%%R -w 15 -h 10 -u in\n",
    "## Set working directory\n",
    "setwd(\"~/Google Drive/Quinlan Lab - PhD/Projects/somatic_ccr/script/plots/\")\n",
    "\n",
    "## Define input variant file\n",
    "input_file <- \"~/Google Drive/Quinlan Lab - PhD/Projects/somatic_ccr/data/output/mc3_pcawg_v3/mc3_pcawg.sorted.filtered.CDS.bed\"\n",
    "\n",
    "source(\"p1_variants_per_variant_class.R\")\n",
    "p1 <- plot1(file = input_file)\n",
    "print(p1[[1]])\n",
    "\n",
    "## To see the raw data used for the plot --> run: print(p1[[2]])"
   ]
  },
  {
   "cell_type": "markdown",
   "metadata": {},
   "source": [
    "## ***Step 1c.2 Plot total number of samples per cancer type***\n",
    "---"
   ]
  },
  {
   "cell_type": "code",
   "execution_count": null,
   "metadata": {},
   "outputs": [],
   "source": [
    "%%R -w 15 -h 10 -u in\n",
    "source(\"p3_samples_per_cancer_type.R\")\n",
    "p3 <- plot3(file = input_file, log_trans = FALSE)\n",
    "print(p3[[1]])\n",
    "\n",
    "## To see the raw data used for the plot --> run: print(p3[[2]])"
   ]
  },
  {
   "cell_type": "markdown",
   "metadata": {},
   "source": [
    "## ***Step 1c.3 Plot Total number of mutations per cancer type given a variant_class***\n",
    "---"
   ]
  },
  {
   "cell_type": "code",
   "execution_count": null,
   "metadata": {},
   "outputs": [],
   "source": [
    "%%R -w 15 -h 10 -u in\n",
    "source(\"p2_variants_per_cancer_type.R\")\n",
    "p2 <- plot2(file = input_file)\n",
    "print(p2[[1]])\n",
    "\n",
    "## To see the raw data used for the plot --> run: print(p2[[2]])"
   ]
  },
  {
   "cell_type": "markdown",
   "metadata": {},
   "source": [
    "## ***Step 1c.4 Plot total number of mutations per gene per cancer type***\n",
    "---"
   ]
  },
  {
   "cell_type": "code",
   "execution_count": null,
   "metadata": {},
   "outputs": [],
   "source": [
    "%%R -w 20 -h 15 -u in\n",
    "source(\"p4_mutations_per_gene_per_cancer_type.R\")\n",
    "p4 <- plot4(file = input_file)\n",
    "print(p4[[1]])\n",
    "\n",
    "## To see the raw data used for the plot --> run: print(p4[[2]])"
   ]
  },
  {
   "cell_type": "markdown",
   "metadata": {},
   "source": [
    "# Next Items\n",
    "\n",
    "* Visualize data in IGV to make sure variants are not in segdups/self-chains\n",
    "\n",
    "* Make lolliplots for each gene with tracks for S and non-S mutations --> **plot S and non-S mutation density**\n",
    "\n",
    "* Figure out how to get expected numbers of mutations in an interval"
   ]
  },
  {
   "cell_type": "markdown",
   "metadata": {},
   "source": [
    "# **Basic Outline of Step #2**\n",
    "## **Step 2: Calculate k-mer frequencies**\n",
    "* Reference this [biostars](https://www.biostars.org/p/461455/) post for more information on how this step was completed.\n",
    "\n",
    "Reference k-mer | Mutated k-mer | Final Label \n",
    ":-: | :-: | :-:\n",
    "ATC | AAC | ATC > AAC\n",
    "ATC | ACC | ATC > ACC\n",
    "ATC | AGG | ATC > AGC\n"
   ]
  },
  {
   "cell_type": "code",
   "execution_count": 45,
   "metadata": {
    "scrolled": true
   },
   "outputs": [
    {
     "name": "stdout",
     "output_type": "stream",
     "text": [
      "   chromosome  start   stop   gene          variant_class\n",
      "1:       chr1 861321 861322 SAMD11 Translation_Start_Site\n",
      "2:       chr1 861335 861336 SAMD11                 Silent\n",
      "3:       chr1 861335 861336 SAMD11                 Silent\n",
      "4:       chr1 861341 861342 SAMD11                 Silent\n",
      "5:       chr1 861341 861342 SAMD11                 Silent\n",
      "6:       chr1 861348 861349 SAMD11      Missense_Mutation\n",
      "                             cancer_type                    sample_id ref alt\n",
      "1:  Uterine Corpus Endometrial Carcinoma TCGA-AX-A2IN-01A-12D-A17W-09   A   G\n",
      "2:               Skin Cutaneous Melanoma TCGA-DA-A1HY-06A-11D-A19A-08   C   T\n",
      "3:               Skin Cutaneous Melanoma TCGA-DA-A1HY-06A-11D-A19A-08   C   T\n",
      "4:               Skin Cutaneous Melanoma TCGA-W3-AA1V-06B-11D-A401-08   G   A\n",
      "5:               Skin Cutaneous Melanoma TCGA-W3-AA1V-06B-11D-A401-08   G   A\n",
      "6: Head and Neck squamous cell carcinoma TCGA-CR-6477-01A-11D-1870-08   C   A\n",
      "   working_group ref_kmer alt_kmer   kmer_id freq\n",
      "1:       mc3_wes      TAT      TGT TAT > TGT  0.1\n",
      "2:       mc3_wes      TCC      TTC TCC > TTC  0.3\n",
      "3:       mc3_wes      TCC      TTC TCC > TTC  0.3\n",
      "4:       mc3_wes      AGG      AAG AGG > AAG  0.2\n",
      "5:       mc3_wes      AGG      AAG AGG > AAG  0.2\n",
      "6:       mc3_wes      TCC      TAC TCC > TAC  0.4\n"
     ]
    }
   ],
   "source": [
    "%%R\n",
    "## Read in function\n",
    "source(\"~/Google Drive/Quinlan Lab - PhD/Projects/somatic_ccr/script/somCCR - v3 Find Sig CCRs/get_kmer_seq.R\")\n",
    "\n",
    "## Define input variables\n",
    "file <- \"~/Google Drive/Quinlan Lab - PhD/Projects/somatic_ccr/data/output/mc3_pcawg_v3/mc3_pcawg.sorted.filtered.snv.CDS.knownCDSlength.bed\"\n",
    "output_file <- \"~/Google Drive/Quinlan Lab - PhD/Projects/somatic_ccr/data/output/mc3_pcawg_v3/mc3_pcawg.sorted.filtered.snv.CDS.knownCDSlength.kmer.bed\"\n",
    "k <- 3\n",
    "\n",
    "df <- get_kmer_freq(file = file, k = k)\n",
    "final <- map_kmer_freq(df = df)\n",
    "head(final)\n",
    "\n",
    "## Write the final table\n",
    "#write.table(x = final, file = output_file, quote = FALSE, sep = \"\\t\", row.names = FALSE)"
   ]
  },
  {
   "cell_type": "code",
   "execution_count": null,
   "metadata": {},
   "outputs": [],
   "source": []
  },
  {
   "cell_type": "code",
   "execution_count": null,
   "metadata": {},
   "outputs": [],
   "source": []
  },
  {
   "cell_type": "code",
   "execution_count": null,
   "metadata": {},
   "outputs": [],
   "source": []
  },
  {
   "cell_type": "code",
   "execution_count": null,
   "metadata": {},
   "outputs": [],
   "source": []
  },
  {
   "cell_type": "code",
   "execution_count": null,
   "metadata": {},
   "outputs": [],
   "source": []
  },
  {
   "cell_type": "code",
   "execution_count": null,
   "metadata": {},
   "outputs": [],
   "source": []
  },
  {
   "cell_type": "code",
   "execution_count": null,
   "metadata": {},
   "outputs": [],
   "source": []
  },
  {
   "cell_type": "code",
   "execution_count": null,
   "metadata": {},
   "outputs": [],
   "source": []
  },
  {
   "cell_type": "code",
   "execution_count": null,
   "metadata": {},
   "outputs": [],
   "source": []
  }
 ],
 "metadata": {
  "kernelspec": {
   "display_name": "Python 3",
   "language": "python",
   "name": "python3"
  },
  "language_info": {
   "codemirror_mode": {
    "name": "ipython",
    "version": 3
   },
   "file_extension": ".py",
   "mimetype": "text/x-python",
   "name": "python",
   "nbconvert_exporter": "python",
   "pygments_lexer": "ipython3",
   "version": "3.5.2"
  },
  "toc": {
   "base_numbering": 1,
   "nav_menu": {
    "height": "864px",
    "width": "720px"
   },
   "number_sections": false,
   "sideBar": true,
   "skip_h1_title": false,
   "title_cell": "Table of Contents",
   "title_sidebar": "Contents",
   "toc_cell": false,
   "toc_position": {
    "height": "calc(100% - 180px)",
    "left": "10px",
    "top": "150px",
    "width": "384px"
   },
   "toc_section_display": true,
   "toc_window_display": true
  }
 },
 "nbformat": 4,
 "nbformat_minor": 5
}
